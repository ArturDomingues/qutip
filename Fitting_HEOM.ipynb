{
 "cells": [
  {
   "cell_type": "code",
   "execution_count": 2,
   "id": "cb83932f",
   "metadata": {},
   "outputs": [],
   "source": [
    "from qutip import *\n",
    "import numpy as np"
   ]
  },
  {
   "cell_type": "code",
   "execution_count": 3,
   "id": "3e389834",
   "metadata": {},
   "outputs": [],
   "source": [
    "# Defining the system Hamiltonian\n",
    "eps = 0.2    # Energy of the 2-level system.\n",
    "Del = 0   # Tunnelling term\n",
    "Hsys = 0.5 * eps * sigmaz() + 0.5 * Del * sigmax()\n",
    "# Initial state of the system.\n",
    "rho0 = basis(2, 0) * basis(2, 0).dag()\n",
    "tlist=np.linspace(0,10,1000)"
   ]
  },
  {
   "cell_type": "markdown",
   "id": "45b970e7-5064-479a-9450-48a533748716",
   "metadata": {},
   "source": [
    "## Spectral density fitting"
   ]
  },
  {
   "cell_type": "code",
   "execution_count": 4,
   "id": "4d63e22e",
   "metadata": {},
   "outputs": [],
   "source": [
    "w = np.linspace(0, 20, 20000)\n",
    "def ohmic_spectral_density(w, alpha, wc):\n",
    "    \"\"\" The Ohmic bath spectral density as a function of w\n",
    "        (and the bath parameters).\n",
    "    \"\"\"\n",
    "    return w * alpha * np.e**(-w / wc)"
   ]
  },
  {
   "cell_type": "code",
   "execution_count": 24,
   "id": "3dac107b-86ff-4b6c-9662-a726080c617a",
   "metadata": {},
   "outputs": [],
   "source": [
    "alpha=0.05\n",
    "T=1\n",
    "wc=0.5"
   ]
  },
  {
   "cell_type": "code",
   "execution_count": 25,
   "id": "c9aa3205",
   "metadata": {},
   "outputs": [],
   "source": [
    "J=ohmic_spectral_density(w,alpha,wc)"
   ]
  },
  {
   "cell_type": "code",
   "execution_count": 26,
   "id": "01122f1e",
   "metadata": {},
   "outputs": [],
   "source": [
    "import cProfile as cp"
   ]
  },
  {
   "cell_type": "code",
   "execution_count": 27,
   "id": "ca762b08",
   "metadata": {},
   "outputs": [],
   "source": [
    "obp=heom.FitSpectral(T, sigmax(), nk=4)"
   ]
  },
  {
   "cell_type": "code",
   "execution_count": 28,
   "id": "0b9dbb68-63a8-45fe-b8cc-eaca06211e57",
   "metadata": {},
   "outputs": [
    {
     "ename": "KeyboardInterrupt",
     "evalue": "",
     "output_type": "error",
     "traceback": [
      "\u001b[0;31m---------------------------------------------------------------------------\u001b[0m",
      "\u001b[0;31mKeyboardInterrupt\u001b[0m                         Traceback (most recent call last)",
      "\u001b[1;32m/home/mcditoos/qutip_gsoc_app/Fitting_HEOM.ipynb Cell 9\u001b[0m line \u001b[0;36m1\n\u001b[0;32m----> <a href='vscode-notebook-cell://wsl%2Bubuntu/home/mcditoos/qutip_gsoc_app/Fitting_HEOM.ipynb#X10sdnNjb2RlLXJlbW90ZQ%3D%3D?line=0'>1</a>\u001b[0m obp\u001b[39m.\u001b[39;49mget_fit(J,w,final_rmse\u001b[39m=\u001b[39;49m\u001b[39m1e-6\u001b[39;49m)\n",
      "File \u001b[0;32m~/qutip_gsoc_app/qutip/solver/heom/bofin_baths.py:1261\u001b[0m, in \u001b[0;36mFitSpectral.get_fit\u001b[0;34m(self, J, w, N, final_rmse)\u001b[0m\n\u001b[1;32m   1259\u001b[0m     rmse \u001b[39m=\u001b[39m \u001b[39m8\u001b[39m\n\u001b[1;32m   1260\u001b[0m     \u001b[39mwhile\u001b[39;00m rmse \u001b[39m>\u001b[39m final_rmse:\n\u001b[0;32m-> 1261\u001b[0m         rmse, params \u001b[39m=\u001b[39m \u001b[39mself\u001b[39;49m\u001b[39m.\u001b[39;49m_fit(\n\u001b[1;32m   1262\u001b[0m             \u001b[39mself\u001b[39;49m\u001b[39m.\u001b[39;49mspectral_density_approx, J, w, N, label\u001b[39m=\u001b[39;49m\u001b[39m\"\u001b[39;49m\u001b[39mSpectral Density\u001b[39;49m\u001b[39m\"\u001b[39;49m\n\u001b[1;32m   1263\u001b[0m         )\n\u001b[1;32m   1264\u001b[0m         N \u001b[39m+\u001b[39m\u001b[39m=\u001b[39m \u001b[39m1\u001b[39m\n\u001b[1;32m   1265\u001b[0m \u001b[39melse\u001b[39;00m:\n",
      "File \u001b[0;32m~/qutip_gsoc_app/qutip/solver/heom/bofin_baths.py:451\u001b[0m, in \u001b[0;36mBosonicBath._fit\u001b[0;34m(self, func, C, t, N, label, guesses, lower, upper, sigma)\u001b[0m\n\u001b[1;32m    448\u001b[0m         lower \u001b[39m=\u001b[39m \u001b[39mself\u001b[39m\u001b[39m.\u001b[39mpack([\u001b[39m-\u001b[39m\u001b[39m100\u001b[39m \u001b[39m*\u001b[39m C_max] \u001b[39m*\u001b[39m N, [\u001b[39m0.1\u001b[39m \u001b[39m*\u001b[39m wc] \u001b[39m*\u001b[39m N, [\u001b[39m0.1\u001b[39m \u001b[39m*\u001b[39m wc] \u001b[39m*\u001b[39m N)\n\u001b[1;32m    449\u001b[0m         upper \u001b[39m=\u001b[39m \u001b[39mself\u001b[39m\u001b[39m.\u001b[39mpack([\u001b[39m100\u001b[39m \u001b[39m*\u001b[39m C_max] \u001b[39m*\u001b[39m N, [\u001b[39m100\u001b[39m \u001b[39m*\u001b[39m wc] \u001b[39m*\u001b[39m N, [\u001b[39m100\u001b[39m \u001b[39m*\u001b[39m wc] \u001b[39m*\u001b[39m N)\n\u001b[0;32m--> 451\u001b[0m lam, gamma, w0 \u001b[39m=\u001b[39m \u001b[39mself\u001b[39;49m\u001b[39m.\u001b[39;49m_leastsq(\n\u001b[1;32m    452\u001b[0m     func,\n\u001b[1;32m    453\u001b[0m     C,\n\u001b[1;32m    454\u001b[0m     t,\n\u001b[1;32m    455\u001b[0m     sigma\u001b[39m=\u001b[39;49msigma,\n\u001b[1;32m    456\u001b[0m     guesses\u001b[39m=\u001b[39;49mguesses,\n\u001b[1;32m    457\u001b[0m     lower\u001b[39m=\u001b[39;49mlower,\n\u001b[1;32m    458\u001b[0m     upper\u001b[39m=\u001b[39;49mupper,\n\u001b[1;32m    459\u001b[0m )\n\u001b[1;32m    460\u001b[0m rmse \u001b[39m=\u001b[39m \u001b[39mself\u001b[39m\u001b[39m.\u001b[39m_rmse(func, t, C, lam\u001b[39m=\u001b[39mlam, gamma\u001b[39m=\u001b[39mgamma, w0\u001b[39m=\u001b[39mw0, N\u001b[39m=\u001b[39mN)\n\u001b[1;32m    461\u001b[0m \u001b[39mreturn\u001b[39;00m rmse, [lam, gamma, w0]\n",
      "File \u001b[0;32m~/qutip_gsoc_app/qutip/solver/heom/bofin_baths.py:395\u001b[0m, in \u001b[0;36mBosonicBath._leastsq\u001b[0;34m(self, func, y, x, guesses, lower, upper, sigma)\u001b[0m\n\u001b[1;32m    393\u001b[0m \u001b[39mexcept\u001b[39;00m:\n\u001b[1;32m    394\u001b[0m     \u001b[39mpass\u001b[39;00m\n\u001b[0;32m--> 395\u001b[0m params, _ \u001b[39m=\u001b[39m curve_fit(\n\u001b[1;32m    396\u001b[0m     \u001b[39mlambda\u001b[39;49;00m x, \u001b[39m*\u001b[39;49mparams: func(x, \u001b[39m*\u001b[39;49m\u001b[39mself\u001b[39;49m\u001b[39m.\u001b[39;49munpack(params)),\n\u001b[1;32m    397\u001b[0m     x,\n\u001b[1;32m    398\u001b[0m     y,\n\u001b[1;32m    399\u001b[0m     p0\u001b[39m=\u001b[39;49mguesses,\n\u001b[1;32m    400\u001b[0m     bounds\u001b[39m=\u001b[39;49m(lower, upper),\n\u001b[1;32m    401\u001b[0m     sigma\u001b[39m=\u001b[39;49msigma,\n\u001b[1;32m    402\u001b[0m     maxfev\u001b[39m=\u001b[39;49m\u001b[39mint\u001b[39;49m(\u001b[39m1e9\u001b[39;49m),\n\u001b[1;32m    403\u001b[0m     method\u001b[39m=\u001b[39;49m\u001b[39m\"\u001b[39;49m\u001b[39mtrf\u001b[39;49m\u001b[39m\"\u001b[39;49m,\n\u001b[1;32m    404\u001b[0m )\n\u001b[1;32m    406\u001b[0m \u001b[39mreturn\u001b[39;00m \u001b[39mself\u001b[39m\u001b[39m.\u001b[39munpack(params)\n",
      "File \u001b[0;32m~/anaconda3/envs/qutip-dev/lib/python3.12/site-packages/scipy/optimize/_minpack_py.py:974\u001b[0m, in \u001b[0;36mcurve_fit\u001b[0;34m(f, xdata, ydata, p0, sigma, absolute_sigma, check_finite, bounds, method, jac, full_output, nan_policy, **kwargs)\u001b[0m\n\u001b[1;32m    971\u001b[0m \u001b[39mif\u001b[39;00m \u001b[39m'\u001b[39m\u001b[39mmax_nfev\u001b[39m\u001b[39m'\u001b[39m \u001b[39mnot\u001b[39;00m \u001b[39min\u001b[39;00m kwargs:\n\u001b[1;32m    972\u001b[0m     kwargs[\u001b[39m'\u001b[39m\u001b[39mmax_nfev\u001b[39m\u001b[39m'\u001b[39m] \u001b[39m=\u001b[39m kwargs\u001b[39m.\u001b[39mpop(\u001b[39m'\u001b[39m\u001b[39mmaxfev\u001b[39m\u001b[39m'\u001b[39m, \u001b[39mNone\u001b[39;00m)\n\u001b[0;32m--> 974\u001b[0m res \u001b[39m=\u001b[39m least_squares(func, p0, jac\u001b[39m=\u001b[39;49mjac, bounds\u001b[39m=\u001b[39;49mbounds, method\u001b[39m=\u001b[39;49mmethod,\n\u001b[1;32m    975\u001b[0m                     \u001b[39m*\u001b[39;49m\u001b[39m*\u001b[39;49mkwargs)\n\u001b[1;32m    977\u001b[0m \u001b[39mif\u001b[39;00m \u001b[39mnot\u001b[39;00m res\u001b[39m.\u001b[39msuccess:\n\u001b[1;32m    978\u001b[0m     \u001b[39mraise\u001b[39;00m \u001b[39mRuntimeError\u001b[39;00m(\u001b[39m\"\u001b[39m\u001b[39mOptimal parameters not found: \u001b[39m\u001b[39m\"\u001b[39m \u001b[39m+\u001b[39m res\u001b[39m.\u001b[39mmessage)\n",
      "File \u001b[0;32m~/anaconda3/envs/qutip-dev/lib/python3.12/site-packages/scipy/optimize/_lsq/least_squares.py:938\u001b[0m, in \u001b[0;36mleast_squares\u001b[0;34m(fun, x0, jac, bounds, method, ftol, xtol, gtol, x_scale, loss, f_scale, diff_step, tr_solver, tr_options, jac_sparsity, max_nfev, verbose, args, kwargs)\u001b[0m\n\u001b[1;32m    934\u001b[0m     result \u001b[39m=\u001b[39m call_minpack(fun_wrapped, x0, jac_wrapped, ftol, xtol, gtol,\n\u001b[1;32m    935\u001b[0m                           max_nfev, x_scale, diff_step)\n\u001b[1;32m    937\u001b[0m \u001b[39melif\u001b[39;00m method \u001b[39m==\u001b[39m \u001b[39m'\u001b[39m\u001b[39mtrf\u001b[39m\u001b[39m'\u001b[39m:\n\u001b[0;32m--> 938\u001b[0m     result \u001b[39m=\u001b[39m trf(fun_wrapped, jac_wrapped, x0, f0, J0, lb, ub, ftol, xtol,\n\u001b[1;32m    939\u001b[0m                  gtol, max_nfev, x_scale, loss_function, tr_solver,\n\u001b[1;32m    940\u001b[0m                  tr_options\u001b[39m.\u001b[39;49mcopy(), verbose)\n\u001b[1;32m    942\u001b[0m \u001b[39melif\u001b[39;00m method \u001b[39m==\u001b[39m \u001b[39m'\u001b[39m\u001b[39mdogbox\u001b[39m\u001b[39m'\u001b[39m:\n\u001b[1;32m    943\u001b[0m     \u001b[39mif\u001b[39;00m tr_solver \u001b[39m==\u001b[39m \u001b[39m'\u001b[39m\u001b[39mlsmr\u001b[39m\u001b[39m'\u001b[39m \u001b[39mand\u001b[39;00m \u001b[39m'\u001b[39m\u001b[39mregularize\u001b[39m\u001b[39m'\u001b[39m \u001b[39min\u001b[39;00m tr_options:\n",
      "File \u001b[0;32m~/anaconda3/envs/qutip-dev/lib/python3.12/site-packages/scipy/optimize/_lsq/trf.py:123\u001b[0m, in \u001b[0;36mtrf\u001b[0;34m(fun, jac, x0, f0, J0, lb, ub, ftol, xtol, gtol, max_nfev, x_scale, loss_function, tr_solver, tr_options, verbose)\u001b[0m\n\u001b[1;32m    119\u001b[0m     \u001b[39mreturn\u001b[39;00m trf_no_bounds(\n\u001b[1;32m    120\u001b[0m         fun, jac, x0, f0, J0, ftol, xtol, gtol, max_nfev, x_scale,\n\u001b[1;32m    121\u001b[0m         loss_function, tr_solver, tr_options, verbose)\n\u001b[1;32m    122\u001b[0m \u001b[39melse\u001b[39;00m:\n\u001b[0;32m--> 123\u001b[0m     \u001b[39mreturn\u001b[39;00m trf_bounds(\n\u001b[1;32m    124\u001b[0m         fun, jac, x0, f0, J0, lb, ub, ftol, xtol, gtol, max_nfev, x_scale,\n\u001b[1;32m    125\u001b[0m         loss_function, tr_solver, tr_options, verbose)\n",
      "File \u001b[0;32m~/anaconda3/envs/qutip-dev/lib/python3.12/site-packages/scipy/optimize/_lsq/trf.py:334\u001b[0m, in \u001b[0;36mtrf_bounds\u001b[0;34m(fun, jac, x0, f0, J0, lb, ub, ftol, xtol, gtol, max_nfev, x_scale, loss_function, tr_solver, tr_options, verbose)\u001b[0m\n\u001b[1;32m    331\u001b[0m     p_h \u001b[39m=\u001b[39m S\u001b[39m.\u001b[39mdot(p_S)\n\u001b[1;32m    333\u001b[0m p \u001b[39m=\u001b[39m d \u001b[39m*\u001b[39m p_h  \u001b[39m# Trust-region solution in the original space.\u001b[39;00m\n\u001b[0;32m--> 334\u001b[0m step, step_h, predicted_reduction \u001b[39m=\u001b[39m select_step(\n\u001b[1;32m    335\u001b[0m     x, J_h, diag_h, g_h, p, p_h, d, Delta, lb, ub, theta)\n\u001b[1;32m    337\u001b[0m x_new \u001b[39m=\u001b[39m make_strictly_feasible(x \u001b[39m+\u001b[39m step, lb, ub, rstep\u001b[39m=\u001b[39m\u001b[39m0\u001b[39m)\n\u001b[1;32m    338\u001b[0m f_new \u001b[39m=\u001b[39m fun(x_new)\n",
      "File \u001b[0;32m~/anaconda3/envs/qutip-dev/lib/python3.12/site-packages/scipy/optimize/_lsq/trf.py:131\u001b[0m, in \u001b[0;36mselect_step\u001b[0;34m(x, J_h, diag_h, g_h, p, p_h, d, Delta, lb, ub, theta)\u001b[0m\n\u001b[1;32m    129\u001b[0m \u001b[39m\u001b[39m\u001b[39m\"\"\"Select the best step according to Trust Region Reflective algorithm.\"\"\"\u001b[39;00m\n\u001b[1;32m    130\u001b[0m \u001b[39mif\u001b[39;00m in_bounds(x \u001b[39m+\u001b[39m p, lb, ub):\n\u001b[0;32m--> 131\u001b[0m     p_value \u001b[39m=\u001b[39m evaluate_quadratic(J_h, g_h, p_h, diag\u001b[39m=\u001b[39;49mdiag_h)\n\u001b[1;32m    132\u001b[0m     \u001b[39mreturn\u001b[39;00m p, p_h, \u001b[39m-\u001b[39mp_value\n\u001b[1;32m    134\u001b[0m p_stride, hits \u001b[39m=\u001b[39m step_size_to_bound(x, p, lb, ub)\n",
      "File \u001b[0;32m~/anaconda3/envs/qutip-dev/lib/python3.12/site-packages/scipy/optimize/_lsq/common.py:349\u001b[0m, in \u001b[0;36mevaluate_quadratic\u001b[0;34m(J, g, s, diag)\u001b[0m\n\u001b[1;32m    326\u001b[0m \u001b[39m\u001b[39m\u001b[39m\"\"\"Compute values of a quadratic function arising in least squares.\u001b[39;00m\n\u001b[1;32m    327\u001b[0m \n\u001b[1;32m    328\u001b[0m \u001b[39mThe function is 0.5 * s.T * (J.T * J + diag) * s + g.T * s.\u001b[39;00m\n\u001b[0;32m   (...)\u001b[0m\n\u001b[1;32m    346\u001b[0m \u001b[39m    returned, otherwise, float is returned.\u001b[39;00m\n\u001b[1;32m    347\u001b[0m \u001b[39m\"\"\"\u001b[39;00m\n\u001b[1;32m    348\u001b[0m \u001b[39mif\u001b[39;00m s\u001b[39m.\u001b[39mndim \u001b[39m==\u001b[39m \u001b[39m1\u001b[39m:\n\u001b[0;32m--> 349\u001b[0m     Js \u001b[39m=\u001b[39m J\u001b[39m.\u001b[39;49mdot(s)\n\u001b[1;32m    350\u001b[0m     q \u001b[39m=\u001b[39m np\u001b[39m.\u001b[39mdot(Js, Js)\n\u001b[1;32m    351\u001b[0m     \u001b[39mif\u001b[39;00m diag \u001b[39mis\u001b[39;00m \u001b[39mnot\u001b[39;00m \u001b[39mNone\u001b[39;00m:\n",
      "\u001b[0;31mKeyboardInterrupt\u001b[0m: "
     ]
    }
   ],
   "source": [
    "obp.get_fit(J,w,final_rmse=1e-6)"
   ]
  },
  {
   "cell_type": "code",
   "execution_count": null,
   "id": "c8349e53-001f-4ee5-80ed-fc03bd08e132",
   "metadata": {},
   "outputs": [
    {
     "name": "stdout",
     "output_type": "stream",
     "text": [
      "10.0%. Run time:   0.27s. Est. time left: 00:00:00:02\n",
      "20.0%. Run time:   0.58s. Est. time left: 00:00:00:02\n",
      "30.0%. Run time:   0.94s. Est. time left: 00:00:00:02\n",
      "40.0%. Run time:   1.21s. Est. time left: 00:00:00:01\n",
      "50.1%. Run time:   1.42s. Est. time left: 00:00:00:01\n",
      "60.1%. Run time:   1.67s. Est. time left: 00:00:00:01\n",
      "70.1%. Run time:   1.92s. Est. time left: 00:00:00:00\n",
      "80.1%. Run time:   2.15s. Est. time left: 00:00:00:00\n",
      "90.1%. Run time:   2.38s. Est. time left: 00:00:00:00\n",
      "100.0%. Run time:   2.63s. Est. time left: 00:00:00:00\n",
      "Total run time:   2.63s\n"
     ]
    }
   ],
   "source": [
    "options = {'nsteps':15000, 'store_states':True, 'rtol':1e-12, 'atol':1e-12, 'method':\"bdf\"}\n",
    "HEOM_spectral_fit = heom.HEOMSolver(Hsys, obp.Bath_spec, max_depth=4, options=options,)\n",
    "result_spectral=HEOM_spectral_fit.run(rho0,tlist)"
   ]
  },
  {
   "cell_type": "code",
   "execution_count": null,
   "id": "ba8ad1ba",
   "metadata": {},
   "outputs": [
    {
     "name": "stdout",
     "output_type": "stream",
     "text": [
      "Fit Spectral instance: \n",
      " Results of the fitting: \n",
      " Parameters   lam      gamma      w0 \n",
      "           -4.42e-02  4.30e+00 4.62e+00 \n",
      "           9.57e-01  1.71e+00 1.75e+00 \n",
      "           1.12e-03  5.66e-01 1.00e-01 \n",
      "           4.10e-02  1.49e+00 1.00e-01 \n",
      "          -8.92e-01  1.69e+00 1.77e+00 \n",
      "           1.41e-05  1.41e-01 1.00e-01 \n",
      "A  normalized RMSE of  9.783549e-07 was obtained for the spectral density \n",
      "A total of 7 underdamped modes where usedThe current fit took 336.953001499176\n"
     ]
    }
   ],
   "source": [
    "obp.summary()"
   ]
  },
  {
   "cell_type": "markdown",
   "id": "a68fa018-26b0-4a38-9298-f4f54dccc7c1",
   "metadata": {},
   "source": [
    "## Correlation Function Fitting"
   ]
  },
  {
   "cell_type": "code",
   "execution_count": null,
   "id": "e1878268-b61c-4209-b86b-e1996a918ce4",
   "metadata": {},
   "outputs": [],
   "source": [
    "from mpmath import mp\n",
    "alpha=0.05\n",
    "T=1\n",
    "wc=1"
   ]
  },
  {
   "cell_type": "code",
   "execution_count": null,
   "id": "75f32f68-9729-462f-b168-02b730dd970f",
   "metadata": {},
   "outputs": [],
   "source": [
    "def ohmic_correlation(t, alpha, wc, beta, s=1):\n",
    "    \"\"\" The Ohmic bath correlation function as a function of t\n",
    "        (and the bath parameters).\n",
    "    \"\"\"\n",
    "    corr = (\n",
    "        (1 / np.pi) * alpha * wc**(1 - s) * beta**(-(s + 1)) * mp.gamma(s + 1)\n",
    "    )\n",
    "    z1_u = (1 + beta * wc - 1.0j * wc * t) / (beta * wc)\n",
    "    z2_u = (1 + 1.0j * wc * t) / (beta * wc)\n",
    "    # Note: the arguments to zeta should be in as high precision as possible.\n",
    "    # See http://mpmath.org/doc/current/basics.html#providing-correct-input\n",
    "    return np.array([\n",
    "        complex(corr * (mp.zeta(s + 1, u1) + mp.zeta(s + 1, u2)))\n",
    "        for u1, u2 in zip(z1_u, z2_u)\n",
    "    ], dtype=np.complex128)"
   ]
  },
  {
   "cell_type": "code",
   "execution_count": null,
   "id": "ba2d7d9a-cebf-4468-a7c7-2479953a73b5",
   "metadata": {},
   "outputs": [],
   "source": [
    "C=ohmic_correlation(tlist,alpha,wc,1/T)"
   ]
  },
  {
   "cell_type": "code",
   "execution_count": null,
   "id": "eac8b815",
   "metadata": {},
   "outputs": [],
   "source": [
    "obp2=heom.FitCorr(sigmax())"
   ]
  },
  {
   "cell_type": "code",
   "execution_count": null,
   "id": "af7df643-faab-4a60-aaa2-ec423badf3a4",
   "metadata": {},
   "outputs": [],
   "source": [
    "obp2.fit_correlation(tlist,C,final_rmse=1e-6)"
   ]
  },
  {
   "cell_type": "code",
   "execution_count": null,
   "id": "f515ad1d",
   "metadata": {},
   "outputs": [
    {
     "name": "stdout",
     "output_type": "stream",
     "text": [
      "Fit correlation instance: \n",
      " Results of the fitting the Real Part: \n",
      " Parameters   lam      gamma      w0 \n",
      "            3.52e-02 -1.66e+00 7.84e-05 \n",
      "           1.73e-03 -1.77e-01 3.19e-06 \n",
      "           4.51e-03 -2.75e+00 3.82e+00 \n",
      "           2.83e-01 -3.25e+00 2.41e+00 \n",
      "          -3.01e-01 -3.32e+00 2.46e+00 \n",
      "           1.27e-02 -6.56e-01 6.20e-06 \n",
      "A  normalized RMSE of  8.886421e-07 was obtained for the real part \n",
      "Results of the fitting the Imaginary Part: \n",
      " Parameters   lam      gamma      w0 \n",
      "          -2.97e-02 -1.66e+00 9.65e-01 \n",
      "          -5.30e-03 -1.71e+00 2.09e+00 \n",
      "          -8.86e-04 -1.71e+00 3.18e+00 \n",
      "           3.59e-03 -4.34e+00 4.99e+00 \n",
      "          -3.58e-02 -4.01e-01 4.61e-03 \n",
      "          -5.17e-02 -1.10e+00 1.37e-01 \n",
      "A  normalized RMSE of 7.59e-07 was obtained for the imaginary part \n",
      "The current fit took -521.3807032108307\n"
     ]
    }
   ],
   "source": [
    "obp2.summary()"
   ]
  },
  {
   "cell_type": "code",
   "execution_count": null,
   "id": "ee42d781-9da8-48ce-86e6-79b9c3522864",
   "metadata": {},
   "outputs": [
    {
     "name": "stdout",
     "output_type": "stream",
     "text": [
      "10.0%. Run time:   2.25s. Est. time left: 00:00:00:20\n",
      "20.0%. Run time:   2.98s. Est. time left: 00:00:00:11\n",
      "30.0%. Run time:   3.71s. Est. time left: 00:00:00:08\n",
      "40.0%. Run time:   4.40s. Est. time left: 00:00:00:06\n",
      "50.1%. Run time:   4.94s. Est. time left: 00:00:00:04\n",
      "60.1%. Run time:   5.49s. Est. time left: 00:00:00:03\n",
      "70.1%. Run time:   5.99s. Est. time left: 00:00:00:02\n",
      "80.1%. Run time:   6.58s. Est. time left: 00:00:00:01\n",
      "90.1%. Run time:   7.20s. Est. time left: 00:00:00:00\n",
      "100.0%. Run time:   7.82s. Est. time left: 00:00:00:00\n",
      "Total run time:   7.82s\n"
     ]
    }
   ],
   "source": [
    "options = {'nsteps':15000, 'store_states':True, 'rtol':1e-12, 'atol':1e-12, 'method':\"bdf\"}\n",
    "HEOM_corr_fit = heom.HEOMSolver(Hsys, obp2.Bath_corr, max_depth=4, options=options,)\n",
    "result_corr=HEOM_corr_fit.run(rho0,tlist)"
   ]
  },
  {
   "cell_type": "markdown",
   "id": "5f8af268-5059-46a7-9d24-9a07a8a05d7b",
   "metadata": {},
   "source": [
    "# Comparison between fits"
   ]
  },
  {
   "cell_type": "code",
   "execution_count": null,
   "id": "2f29bd39-5a12-48f5-a78f-50a621b650eb",
   "metadata": {},
   "outputs": [],
   "source": [
    "def projection(result,i,j):\n",
    "    return [result.states[k][i,j] for k in range(len(result.states))]"
   ]
  },
  {
   "cell_type": "code",
   "execution_count": null,
   "id": "930b28d4-90dd-4c8d-9568-20b33dde6fa7",
   "metadata": {},
   "outputs": [],
   "source": [
    "import matplotlib.pyplot as plt"
   ]
  },
  {
   "cell_type": "code",
   "execution_count": null,
   "id": "fea8022a-02f5-4043-871f-da8048a598b7",
   "metadata": {},
   "outputs": [
    {
     "name": "stderr",
     "output_type": "stream",
     "text": [
      "/home/mcditoos/anaconda3/envs/qutip-dev/lib/python3.12/site-packages/matplotlib/cbook.py:1699: ComplexWarning: Casting complex values to real discards the imaginary part\n",
      "  return math.isfinite(val)\n",
      "/home/mcditoos/anaconda3/envs/qutip-dev/lib/python3.12/site-packages/matplotlib/cbook.py:1345: ComplexWarning: Casting complex values to real discards the imaginary part\n",
      "  return np.asarray(x, float)\n"
     ]
    },
    {
     "data": {
      "image/png": "[encoded data removed]",
      "text/plain": [
       "<Figure size 640x480 with 1 Axes>"
      ]
     },
     "metadata": {},
     "output_type": "display_data"
    }
   ],
   "source": [
    "plt.plot(tlist,projection(result_corr,0,0))\n",
    "plt.plot(tlist,projection(result_spectral,0,0),color='k')\n",
    "plt.xlabel('t')\n",
    "plt.ylabel(r'$\\rho_{11}$')\n",
    "plt.show()"
   ]
  },
  {
   "cell_type": "code",
   "execution_count": null,
   "id": "bd2e4af7",
   "metadata": {},
   "outputs": [],
   "source": [
    "def ohmic_power_spectrum(w, alpha, wc, beta):\n",
    "    \"\"\" The Ohmic bath power spectrum as a function of w\n",
    "        (and the bath parameters).\n",
    "    \"\"\"\n",
    "    return (\n",
    "        w * alpha * np.e**(-abs(w) / wc) *\n",
    "        ((1 / (np.e**(w * beta) - 1)) + 1) * 2\n",
    "    )"
   ]
  },
  {
   "cell_type": "code",
   "execution_count": null,
   "id": "86ef45f2-c782-4075-becb-2617381ff831",
   "metadata": {},
   "outputs": [
    {
     "data": {
      "image/png": "[encoded data removed]",
      "text/plain": [
       "<Figure size 640x480 with 1 Axes>"
      ]
     },
     "metadata": {},
     "output_type": "display_data"
    }
   ],
   "source": [
    "w=np.linspace(-10,10,1000)\n",
    "plt.plot(w,ohmic_power_spectrum(w,alpha,wc,1/T),color='green')\n",
    "plt.plot(w,obp2.corr_spectrum_approx(w),color='red')\n",
    "plt.plot(w,obp.spec_spectrum_approx(w),color='k')\n",
    "plt.ylabel(r'$P( \\omega )$')\n",
    "plt.xlabel(r'$\\omega$')\n",
    "plt.show()"
   ]
  },
  {
   "cell_type": "code",
   "execution_count": null,
   "id": "9db0ba4d",
   "metadata": {},
   "outputs": [],
   "source": []
  }
 ],
 "metadata": {
  "kernelspec": {
   "display_name": "Python 3 (ipykernel)",
   "language": "python",
   "name": "python3"
  },
  "language_info": {
   "codemirror_mode": {
    "name": "ipython",
    "version": 3
   },
   "file_extension": ".py",
   "mimetype": "text/x-python",
   "name": "python",
   "nbconvert_exporter": "python",
   "pygments_lexer": "ipython3",
   "version": "3.12.0"
  }
 },
 "nbformat": 4,
 "nbformat_minor": 5
}
