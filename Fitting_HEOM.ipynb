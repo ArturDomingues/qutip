{
 "cells": [
  {
   "cell_type": "code",
   "execution_count": 1,
   "id": "cb83932f",
   "metadata": {},
   "outputs": [],
   "source": [
    "from qutip import *\n",
    "import numpy as np"
   ]
  },
  {
   "cell_type": "code",
   "execution_count": 2,
   "id": "3e389834",
   "metadata": {},
   "outputs": [],
   "source": [
    "# Defining the system Hamiltonian\n",
    "eps = 0.0    # Energy of the 2-level system.\n",
    "Del = 0.2    # Tunnelling term\n",
    "Hsys = 0.5 * eps * sigmaz() + 0.5 * Del * sigmax()\n",
    "# Initial state of the system.\n",
    "rho0 = basis(2, 0) * basis(2, 0).dag()\n",
    "tlist=np.linspace(0,10,1000)"
   ]
  },
  {
   "cell_type": "markdown",
   "id": "45b970e7-5064-479a-9450-48a533748716",
   "metadata": {},
   "source": [
    "## Spectral density fitting"
   ]
  },
  {
   "cell_type": "code",
   "execution_count": 3,
   "id": "4d63e22e",
   "metadata": {},
   "outputs": [],
   "source": [
    "w = np.linspace(0, 20, 20000)\n",
    "def ohmic_spectral_density(w, alpha, wc):\n",
    "    \"\"\" The Ohmic bath spectral density as a function of w\n",
    "        (and the bath parameters).\n",
    "    \"\"\"\n",
    "    return w * alpha * np.e**(-w / wc)"
   ]
  },
  {
   "cell_type": "code",
   "execution_count": 4,
   "id": "3dac107b-86ff-4b6c-9662-a726080c617a",
   "metadata": {},
   "outputs": [],
   "source": [
    "alpha=0.05\n",
    "T=1\n",
    "wc=1"
   ]
  },
  {
   "cell_type": "code",
   "execution_count": 5,
   "id": "c9aa3205",
   "metadata": {},
   "outputs": [],
   "source": [
    "J=ohmic_spectral_density(w,alpha,wc)"
   ]
  },
  {
   "cell_type": "code",
   "execution_count": 6,
   "id": "14741f8b",
   "metadata": {},
   "outputs": [],
   "source": [
    "obp=heom.FitSpectral(alpha,T,wc,sigmax())"
   ]
  },
  {
   "cell_type": "code",
   "execution_count": 7,
   "id": "0b9dbb68-63a8-45fe-b8cc-eaca06211e57",
   "metadata": {},
   "outputs": [
    {
     "name": "stdout",
     "output_type": "stream",
     "text": [
      "Parameters [k=1]: lam=[0.09458064]; gamma=[1.779439]; w0=[0.100005], Obtain a normalized RMSE of 0.00016082569123328715\n",
      "Parameters [k=2]: lam=[0.03401297 0.05021536]; gamma=[1.24940346 1.43483174]; w0=[0.100005   1.80514724], Obtain a normalized RMSE of 7.935920006974142e-05\n"
     ]
    }
   ],
   "source": [
    "obp.get_fit(J,w,final_rmse=1e-4)"
   ]
  },
  {
   "cell_type": "code",
   "execution_count": 8,
   "id": "c8349e53-001f-4ee5-80ed-fc03bd08e132",
   "metadata": {},
   "outputs": [
    {
     "name": "stdout",
     "output_type": "stream",
     "text": [
      "10.0%. Run time:   1.28s. Est. time left: 00:00:00:11\n",
      "20.0%. Run time:   2.51s. Est. time left: 00:00:00:10\n",
      "30.0%. Run time:   3.76s. Est. time left: 00:00:00:08\n",
      "40.0%. Run time:   4.90s. Est. time left: 00:00:00:07\n",
      "50.1%. Run time:   5.96s. Est. time left: 00:00:00:05\n",
      "60.1%. Run time:   7.05s. Est. time left: 00:00:00:04\n",
      "70.1%. Run time:   8.19s. Est. time left: 00:00:00:03\n",
      "80.1%. Run time:   9.34s. Est. time left: 00:00:00:02\n",
      "90.1%. Run time:  10.47s. Est. time left: 00:00:00:01\n",
      "100.0%. Run time:  11.62s. Est. time left: 00:00:00:00\n",
      "Total run time:  11.62s\n"
     ]
    }
   ],
   "source": [
    "options = {'nsteps':15000, 'store_states':True, 'rtol':1e-12, 'atol':1e-12, 'method':\"bdf\"}\n",
    "HEOM_spectral_fit = heom.HEOMSolver(Hsys, obp.Bath_spec, max_depth=4, options=options,)\n",
    "result_spectral=HEOM_spectral_fit.run(rho0,tlist)"
   ]
  },
  {
   "cell_type": "markdown",
   "id": "a68fa018-26b0-4a38-9298-f4f54dccc7c1",
   "metadata": {},
   "source": [
    "## Correlation Function Fitting"
   ]
  },
  {
   "cell_type": "code",
   "execution_count": 9,
   "id": "e1878268-b61c-4209-b86b-e1996a918ce4",
   "metadata": {},
   "outputs": [],
   "source": [
    "from mpmath import mp\n",
    "alpha=0.05\n",
    "T=1\n",
    "wc=1"
   ]
  },
  {
   "cell_type": "code",
   "execution_count": 10,
   "id": "75f32f68-9729-462f-b168-02b730dd970f",
   "metadata": {},
   "outputs": [],
   "source": [
    "def ohmic_correlation(t, alpha, wc, beta, s=1):\n",
    "    \"\"\" The Ohmic bath correlation function as a function of t\n",
    "        (and the bath parameters).\n",
    "    \"\"\"\n",
    "    corr = (\n",
    "        (1 / np.pi) * alpha * wc**(1 - s) * beta**(-(s + 1)) * mp.gamma(s + 1)\n",
    "    )\n",
    "    z1_u = (1 + beta * wc - 1.0j * wc * t) / (beta * wc)\n",
    "    z2_u = (1 + 1.0j * wc * t) / (beta * wc)\n",
    "    # Note: the arguments to zeta should be in as high precision as possible.\n",
    "    # See http://mpmath.org/doc/current/basics.html#providing-correct-input\n",
    "    return np.array([\n",
    "        complex(corr * (mp.zeta(s + 1, u1) + mp.zeta(s + 1, u2)))\n",
    "        for u1, u2 in zip(z1_u, z2_u)\n",
    "    ], dtype=np.complex128)"
   ]
  },
  {
   "cell_type": "code",
   "execution_count": 11,
   "id": "ba2d7d9a-cebf-4468-a7c7-2479953a73b5",
   "metadata": {},
   "outputs": [],
   "source": [
    "C=ohmic_correlation(tlist,alpha,wc,1/T)"
   ]
  },
  {
   "cell_type": "code",
   "execution_count": 12,
   "id": "eac8b815",
   "metadata": {},
   "outputs": [],
   "source": [
    "obp2=heom.FitCorr(T,sigmax())"
   ]
  },
  {
   "cell_type": "code",
   "execution_count": 13,
   "id": "af7df643-faab-4a60-aaa2-ec423badf3a4",
   "metadata": {},
   "outputs": [
    {
     "name": "stdout",
     "output_type": "stream",
     "text": [
      "Parameters [k=1]: lam=[0.03997172]; gamma=[-0.93011559]; w0=[4.1303769e-13], Obtain a normalized RMSE of 0.0006445667418475704\n",
      "Parameters [k=1]: lam=[-0.18222192]; gamma=[-1.75906529]; w0=[0.25732491], Obtain a normalized RMSE of 0.0007289292847508476\n",
      "Parameters [k=2]: lam=[0.01946082 0.0201027 ]; gamma=[-1.00832485 -0.54380531]; w0=[1.02317024e+00 3.15771480e-05], Obtain a normalized RMSE of 0.0003235270925995683\n",
      "Parameters [k=2]: lam=[-0.18222191 -0.01388122]; gamma=[-1.25080414 -1.43414172]; w0=[0.09353412 1.80587667], Obtain a normalized RMSE of 0.0003542547990932083\n"
     ]
    }
   ],
   "source": [
    "obp2.fit_correlation(tlist,C,wc,final_rmse=5e-4)"
   ]
  },
  {
   "cell_type": "code",
   "execution_count": 14,
   "id": "53bf7d10-ccf0-43a9-bb3f-3283af0226cb",
   "metadata": {},
   "outputs": [
    {
     "name": "stdout",
     "output_type": "stream",
     "text": [
      "Parameters [k=4]: lam=[ 0.72888766  0.02681124  0.00351171 -0.72274992]; gamma=[-4.4769911  -0.99053624 -0.24886006 -4.55094293]; w0=[5.51836478e-04 2.16109850e-05 1.25246283e-05 6.12959581e-01], Obtain a normalized RMSE of 8.963976919681359e-06\n",
      "Parameters [k=3]: lam=[-0.07427189 -0.18222137 -0.01388121]; gamma=[-1.71964502 -1.25080469 -1.43414185]; w0=[1.13855481e-33 9.35345323e-02 1.80587751e+00], Obtain a normalized RMSE of 0.0003542547992099876\n"
     ]
    }
   ],
   "source": [
    "obp2.fit_correlation(tlist,C,wc,Ni=3,Nr=4)"
   ]
  },
  {
   "cell_type": "code",
   "execution_count": 15,
   "id": "ee42d781-9da8-48ce-86e6-79b9c3522864",
   "metadata": {},
   "outputs": [
    {
     "name": "stdout",
     "output_type": "stream",
     "text": [
      "10.0%. Run time:   0.15s. Est. time left: 00:00:00:01\n",
      "20.0%. Run time:   0.22s. Est. time left: 00:00:00:00\n",
      "30.0%. Run time:   0.27s. Est. time left: 00:00:00:00\n",
      "40.0%. Run time:   0.31s. Est. time left: 00:00:00:00\n",
      "50.1%. Run time:   0.36s. Est. time left: 00:00:00:00\n",
      "60.1%. Run time:   0.41s. Est. time left: 00:00:00:00\n",
      "70.1%. Run time:   0.45s. Est. time left: 00:00:00:00\n",
      "80.1%. Run time:   0.50s. Est. time left: 00:00:00:00\n",
      "90.1%. Run time:   0.54s. Est. time left: 00:00:00:00\n",
      "100.0%. Run time:   0.58s. Est. time left: 00:00:00:00\n",
      "Total run time:   0.59s\n"
     ]
    }
   ],
   "source": [
    "HEOM_corr_fit = heom.HEOMSolver(Hsys, obp2.Bath_corr, max_depth=4, options=options,)\n",
    "result_corr=HEOM_corr_fit.run(rho0,tlist)"
   ]
  },
  {
   "cell_type": "markdown",
   "id": "5f8af268-5059-46a7-9d24-9a07a8a05d7b",
   "metadata": {},
   "source": [
    "# Comparison between fits"
   ]
  },
  {
   "cell_type": "code",
   "execution_count": 16,
   "id": "2f29bd39-5a12-48f5-a78f-50a621b650eb",
   "metadata": {},
   "outputs": [],
   "source": [
    "def projection(result,i,j):\n",
    "    return [result.states[k][i,j] for k in range(len(result.states))]"
   ]
  },
  {
   "cell_type": "code",
   "execution_count": 17,
   "id": "930b28d4-90dd-4c8d-9568-20b33dde6fa7",
   "metadata": {},
   "outputs": [],
   "source": [
    "import matplotlib.pyplot as plt"
   ]
  },
  {
   "cell_type": "code",
   "execution_count": 18,
   "id": "fea8022a-02f5-4043-871f-da8048a598b7",
   "metadata": {},
   "outputs": [
    {
     "name": "stderr",
     "output_type": "stream",
     "text": [
      "/home/mcditoos/anaconda3/envs/qutip-dev/lib/python3.12/site-packages/matplotlib/cbook.py:1699: ComplexWarning: Casting complex values to real discards the imaginary part\n",
      "  return math.isfinite(val)\n",
      "/home/mcditoos/anaconda3/envs/qutip-dev/lib/python3.12/site-packages/matplotlib/cbook.py:1345: ComplexWarning: Casting complex values to real discards the imaginary part\n",
      "  return np.asarray(x, float)\n"
     ]
    },
    {
     "data": {
      "image/png": "[encoded data removed]",
      "text/plain": [
       "<Figure size 640x480 with 1 Axes>"
      ]
     },
     "metadata": {},
     "output_type": "display_data"
    }
   ],
   "source": [
    "plt.plot(tlist,projection(result_corr,0,0))\n",
    "plt.plot(tlist,projection(result_spectral,0,0))\n",
    "plt.xlabel('t')\n",
    "plt.ylabel(r'$\\rho_{11}$')\n",
    "plt.show()"
   ]
  },
  {
   "cell_type": "code",
   "execution_count": 19,
   "id": "86ef45f2-c782-4075-becb-2617381ff831",
   "metadata": {},
   "outputs": [
    {
     "data": {
      "image/png": "[encoded data removed]",
      "text/plain": [
       "<Figure size 640x480 with 1 Axes>"
      ]
     },
     "metadata": {},
     "output_type": "display_data"
    }
   ],
   "source": [
    "w=np.linspace(-10,10,1000)\n",
    "plt.plot(w,obp2.corr_spectrum_approx(w))\n",
    "plt.plot(w,obp.spec_spectrum_approx(w))\n",
    "plt.ylabel(r'$P( \\omega )$')\n",
    "plt.xlabel(r'$\\omega$')\n",
    "plt.show()"
   ]
  }
 ],
 "metadata": {
  "kernelspec": {
   "display_name": "Python 3 (ipykernel)",
   "language": "python",
   "name": "python3"
  },
  "language_info": {
   "codemirror_mode": {
    "name": "ipython",
    "version": 3
   },
   "file_extension": ".py",
   "mimetype": "text/x-python",
   "name": "python",
   "nbconvert_exporter": "python",
   "pygments_lexer": "ipython3",
   "version": "3.12.0"
  }
 },
 "nbformat": 4,
 "nbformat_minor": 5
}
