{
 "cells": [
  {
   "cell_type": "code",
   "execution_count": 1,
   "id": "cb83932f",
   "metadata": {},
   "outputs": [],
   "source": [
    "from qutip import *\n",
    "import numpy as np"
   ]
  },
  {
   "cell_type": "code",
   "execution_count": 2,
   "id": "3e389834",
   "metadata": {},
   "outputs": [],
   "source": [
    "# Defining the system Hamiltonian\n",
    "eps = 0.2    # Energy of the 2-level system.\n",
    "Del = 0   # Tunnelling term\n",
    "Hsys = 0.5 * eps * sigmaz() + 0.5 * Del * sigmax()\n",
    "# Initial state of the system.\n",
    "rho0 = basis(2, 0) * basis(2, 0).dag()\n",
    "tlist=np.linspace(0,10,1000)"
   ]
  },
  {
   "cell_type": "markdown",
   "id": "45b970e7-5064-479a-9450-48a533748716",
   "metadata": {},
   "source": [
    "## Spectral density fitting"
   ]
  },
  {
   "cell_type": "code",
   "execution_count": 3,
   "id": "4d63e22e",
   "metadata": {},
   "outputs": [],
   "source": [
    "w = np.linspace(0, 20, 20000)\n",
    "def ohmic_spectral_density(w, alpha, wc):\n",
    "    \"\"\" The Ohmic bath spectral density as a function of w\n",
    "        (and the bath parameters).\n",
    "    \"\"\"\n",
    "    return w * alpha * np.e**(-w / wc)"
   ]
  },
  {
   "cell_type": "code",
   "execution_count": 4,
   "id": "3dac107b-86ff-4b6c-9662-a726080c617a",
   "metadata": {},
   "outputs": [],
   "source": [
    "alpha=0.05\n",
    "T=1\n",
    "wc=1"
   ]
  },
  {
   "cell_type": "code",
   "execution_count": 5,
   "id": "c9aa3205",
   "metadata": {},
   "outputs": [],
   "source": [
    "J=ohmic_spectral_density(w,alpha,wc)"
   ]
  },
  {
   "cell_type": "code",
   "execution_count": 6,
   "id": "14741f8b",
   "metadata": {},
   "outputs": [],
   "source": [
    "obp=heom.FitSpectral(T,sigmax(),nk=4)"
   ]
  },
  {
   "cell_type": "code",
   "execution_count": 7,
   "id": "0b9dbb68-63a8-45fe-b8cc-eaca06211e57",
   "metadata": {},
   "outputs": [],
   "source": [
    "obp.get_fit(J,w,final_rmse=5e-6)"
   ]
  },
  {
   "cell_type": "code",
   "execution_count": 8,
   "id": "c8349e53-001f-4ee5-80ed-fc03bd08e132",
   "metadata": {},
   "outputs": [
    {
     "name": "stdout",
     "output_type": "stream",
     "text": [
      "10.0%. Run time:   0.42s. Est. time left: 00:00:00:03\n",
      "20.0%. Run time:   0.73s. Est. time left: 00:00:00:02\n",
      "30.0%. Run time:   1.02s. Est. time left: 00:00:00:02\n",
      "40.0%. Run time:   1.30s. Est. time left: 00:00:00:01\n",
      "50.1%. Run time:   1.54s. Est. time left: 00:00:00:01\n",
      "60.1%. Run time:   1.82s. Est. time left: 00:00:00:01\n",
      "70.1%. Run time:   2.07s. Est. time left: 00:00:00:00\n",
      "80.1%. Run time:   2.33s. Est. time left: 00:00:00:00\n",
      "90.1%. Run time:   2.60s. Est. time left: 00:00:00:00\n",
      "100.0%. Run time:   2.93s. Est. time left: 00:00:00:00\n",
      "Total run time:   2.93s\n"
     ]
    }
   ],
   "source": [
    "options = {'nsteps':15000, 'store_states':True, 'rtol':1e-12, 'atol':1e-12, 'method':\"bdf\"}\n",
    "HEOM_spectral_fit = heom.HEOMSolver(Hsys, obp.Bath_spec, max_depth=4, options=options,)\n",
    "result_spectral=HEOM_spectral_fit.run(rho0,tlist)"
   ]
  },
  {
   "cell_type": "code",
   "execution_count": 9,
   "id": "ba8ad1ba",
   "metadata": {},
   "outputs": [
    {
     "name": "stdout",
     "output_type": "stream",
     "text": [
      "Fit Spectral instance: \n",
      " Results of the fitting: \n",
      " Parameters   lam      gamma      w0 \n",
      "           -1.84e-01  6.36e-01 1.18e-01 \n",
      "           1.91e-01  6.44e-01 1.00e-01 \n",
      "          -6.55e-02  4.29e+00 4.08e+00 \n",
      "           1.22e-01  2.25e+00 1.02e-01 \n",
      "A  normalized RMSE of  3.242335e-06 was obtained for the real part \n",
      "\n"
     ]
    }
   ],
   "source": [
    "obp.summary()"
   ]
  },
  {
   "cell_type": "markdown",
   "id": "a68fa018-26b0-4a38-9298-f4f54dccc7c1",
   "metadata": {},
   "source": [
    "## Correlation Function Fitting"
   ]
  },
  {
   "cell_type": "code",
   "execution_count": 10,
   "id": "e1878268-b61c-4209-b86b-e1996a918ce4",
   "metadata": {},
   "outputs": [],
   "source": [
    "from mpmath import mp\n",
    "alpha=0.05\n",
    "T=1\n",
    "wc=1"
   ]
  },
  {
   "cell_type": "code",
   "execution_count": 11,
   "id": "75f32f68-9729-462f-b168-02b730dd970f",
   "metadata": {},
   "outputs": [],
   "source": [
    "def ohmic_correlation(t, alpha, wc, beta, s=1):\n",
    "    \"\"\" The Ohmic bath correlation function as a function of t\n",
    "        (and the bath parameters).\n",
    "    \"\"\"\n",
    "    corr = (\n",
    "        (1 / np.pi) * alpha * wc**(1 - s) * beta**(-(s + 1)) * mp.gamma(s + 1)\n",
    "    )\n",
    "    z1_u = (1 + beta * wc - 1.0j * wc * t) / (beta * wc)\n",
    "    z2_u = (1 + 1.0j * wc * t) / (beta * wc)\n",
    "    # Note: the arguments to zeta should be in as high precision as possible.\n",
    "    # See http://mpmath.org/doc/current/basics.html#providing-correct-input\n",
    "    return np.array([\n",
    "        complex(corr * (mp.zeta(s + 1, u1) + mp.zeta(s + 1, u2)))\n",
    "        for u1, u2 in zip(z1_u, z2_u)\n",
    "    ], dtype=np.complex128)"
   ]
  },
  {
   "cell_type": "code",
   "execution_count": 12,
   "id": "ba2d7d9a-cebf-4468-a7c7-2479953a73b5",
   "metadata": {},
   "outputs": [],
   "source": [
    "C=ohmic_correlation(tlist,alpha,wc,1/T)"
   ]
  },
  {
   "cell_type": "code",
   "execution_count": 13,
   "id": "eac8b815",
   "metadata": {},
   "outputs": [],
   "source": [
    "obp2=heom.FitCorr(T,sigmax())"
   ]
  },
  {
   "cell_type": "code",
   "execution_count": 14,
   "id": "af7df643-faab-4a60-aaa2-ec423badf3a4",
   "metadata": {},
   "outputs": [],
   "source": [
    "obp2.fit_correlation(tlist,C,final_rmse=5e-6)"
   ]
  },
  {
   "cell_type": "code",
   "execution_count": 15,
   "id": "f515ad1d",
   "metadata": {},
   "outputs": [
    {
     "name": "stdout",
     "output_type": "stream",
     "text": [
      "Fit correlation instance: \n",
      " Results of the fitting the Real Part: \n",
      " Parameters   lam      gamma      w0 \n",
      "           -5.02e-01 -1.11e+00 1.24e-01 \n",
      "           5.47e-01 -1.12e+00 1.88e-04 \n",
      "           3.35e-01 -4.21e+00 2.23e+00 \n",
      "           2.36e-03 -2.04e-01 2.63e-08 \n",
      "          -3.45e-01 -4.26e+00 2.29e+00 \n",
      "A  normalized RMSE of  1.943646e-06 was obtained for the real part \n",
      "Results of the fitting the Imaginary Part: \n",
      " Parameters   lam      gamma      w0 \n",
      "          -5.17e-02 -1.28e+00 2.24e-01 \n",
      "          -5.17e-02 -4.81e-01 6.74e-03 \n",
      "          -5.17e-02 -2.24e+00 9.51e-01 \n",
      "           7.00e-03 -4.29e+00 4.19e+00 \n",
      "A  normalized RMSE of 4.42e-06 was obtained for the imaginary part \n",
      "\n"
     ]
    }
   ],
   "source": [
    "obp2.summary()"
   ]
  },
  {
   "cell_type": "code",
   "execution_count": 16,
   "id": "ee42d781-9da8-48ce-86e6-79b9c3522864",
   "metadata": {},
   "outputs": [
    {
     "name": "stdout",
     "output_type": "stream",
     "text": [
      "10.0%. Run time:   0.64s. Est. time left: 00:00:00:05\n",
      "20.0%. Run time:   0.95s. Est. time left: 00:00:00:03\n",
      "30.0%. Run time:   1.30s. Est. time left: 00:00:00:03\n",
      "40.0%. Run time:   1.70s. Est. time left: 00:00:00:02\n",
      "50.1%. Run time:   2.15s. Est. time left: 00:00:00:02\n",
      "60.1%. Run time:   2.62s. Est. time left: 00:00:00:01\n",
      "70.1%. Run time:   3.07s. Est. time left: 00:00:00:01\n",
      "80.1%. Run time:   3.55s. Est. time left: 00:00:00:00\n",
      "90.1%. Run time:   3.81s. Est. time left: 00:00:00:00\n",
      "100.0%. Run time:   4.10s. Est. time left: 00:00:00:00\n",
      "Total run time:   4.10s\n"
     ]
    }
   ],
   "source": [
    "options = {'nsteps':15000, 'store_states':True, 'rtol':1e-12, 'atol':1e-12, 'method':\"bdf\"}\n",
    "HEOM_corr_fit = heom.HEOMSolver(Hsys, obp2.Bath_corr, max_depth=4, options=options,)\n",
    "result_corr=HEOM_corr_fit.run(rho0,tlist)"
   ]
  },
  {
   "cell_type": "markdown",
   "id": "5f8af268-5059-46a7-9d24-9a07a8a05d7b",
   "metadata": {},
   "source": [
    "# Comparison between fits"
   ]
  },
  {
   "cell_type": "code",
   "execution_count": 17,
   "id": "2f29bd39-5a12-48f5-a78f-50a621b650eb",
   "metadata": {},
   "outputs": [],
   "source": [
    "def projection(result,i,j):\n",
    "    return [result.states[k][i,j] for k in range(len(result.states))]"
   ]
  },
  {
   "cell_type": "code",
   "execution_count": 18,
   "id": "930b28d4-90dd-4c8d-9568-20b33dde6fa7",
   "metadata": {},
   "outputs": [],
   "source": [
    "import matplotlib.pyplot as plt"
   ]
  },
  {
   "cell_type": "code",
   "execution_count": 19,
   "id": "fea8022a-02f5-4043-871f-da8048a598b7",
   "metadata": {},
   "outputs": [
    {
     "name": "stderr",
     "output_type": "stream",
     "text": [
      "/home/mcditoos/anaconda3/envs/qutip-dev/lib/python3.12/site-packages/matplotlib/cbook.py:1699: ComplexWarning: Casting complex values to real discards the imaginary part\n",
      "  return math.isfinite(val)\n",
      "/home/mcditoos/anaconda3/envs/qutip-dev/lib/python3.12/site-packages/matplotlib/cbook.py:1345: ComplexWarning: Casting complex values to real discards the imaginary part\n",
      "  return np.asarray(x, float)\n"
     ]
    },
    {
     "data": {
      "image/png": "[encoded data removed]",
      "text/plain": [
       "<Figure size 640x480 with 1 Axes>"
      ]
     },
     "metadata": {},
     "output_type": "display_data"
    }
   ],
   "source": [
    "plt.plot(tlist,projection(result_corr,0,0))\n",
    "plt.plot(tlist,projection(result_spectral,0,0),color='k')\n",
    "plt.xlabel('t')\n",
    "plt.ylabel(r'$\\rho_{11}$')\n",
    "plt.show()"
   ]
  },
  {
   "cell_type": "code",
   "execution_count": 20,
   "id": "bd2e4af7",
   "metadata": {},
   "outputs": [],
   "source": [
    "def ohmic_power_spectrum(w, alpha, wc, beta):\n",
    "    \"\"\" The Ohmic bath power spectrum as a function of w\n",
    "        (and the bath parameters).\n",
    "    \"\"\"\n",
    "    return (\n",
    "        w * alpha * np.e**(-abs(w) / wc) *\n",
    "        ((1 / (np.e**(w * beta) - 1)) + 1) * 2\n",
    "    )"
   ]
  },
  {
   "cell_type": "code",
   "execution_count": 21,
   "id": "86ef45f2-c782-4075-becb-2617381ff831",
   "metadata": {},
   "outputs": [
    {
     "data": {
      "image/png": "[encoded data removed]",
      "text/plain": [
       "<Figure size 640x480 with 1 Axes>"
      ]
     },
     "metadata": {},
     "output_type": "display_data"
    }
   ],
   "source": [
    "w=np.linspace(-10,10,1000)\n",
    "plt.plot(w,ohmic_power_spectrum(w,alpha,wc,1/T),color='green')\n",
    "plt.plot(w,obp2.corr_spectrum_approx(w),color='red')\n",
    "plt.plot(w,obp.spec_spectrum_approx(w),color='k')\n",
    "plt.ylabel(r'$P( \\omega )$')\n",
    "plt.xlabel(r'$\\omega$')\n",
    "plt.show()"
   ]
  }
 ],
 "metadata": {
  "kernelspec": {
   "display_name": "Python 3 (ipykernel)",
   "language": "python",
   "name": "python3"
  },
  "language_info": {
   "codemirror_mode": {
    "name": "ipython",
    "version": 3
   },
   "file_extension": ".py",
   "mimetype": "text/x-python",
   "name": "python",
   "nbconvert_exporter": "python",
   "pygments_lexer": "ipython3",
   "version": "3.12.0"
  }
 },
 "nbformat": 4,
 "nbformat_minor": 5
}
