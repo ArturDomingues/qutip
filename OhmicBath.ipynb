{
 "cells": [
  {
   "cell_type": "code",
   "execution_count": 18,
   "id": "2bb296b7-6f64-4660-a79a-30309e63153f",
   "metadata": {},
   "outputs": [],
   "source": [
    "from qutip import *\n",
    "import numpy as np"
   ]
  },
  {
   "cell_type": "markdown",
   "id": "c4ed1d4b-69ee-495d-bdd4-e85d129bcea5",
   "metadata": {},
   "source": [
    "Setting parameters"
   ]
  },
  {
   "cell_type": "code",
   "execution_count": 2,
   "id": "b52eb1f2-6579-4f8a-9329-8543d301090c",
   "metadata": {},
   "outputs": [],
   "source": [
    "# Defining the system Hamiltonian\n",
    "Hsys = 0.5 * sigmaz()\n",
    "# Initial state of the system.\n",
    "rho0 = basis(2, 0) * basis(2, 0).dag()\n",
    "tlist=np.linspace(0,10,100)\n",
    "# defining Ohmic bath properties\n",
    "alpha=0.05\n",
    "T=1\n",
    "wc=1\n",
    "s=1\n"
   ]
  },
  {
   "cell_type": "markdown",
   "id": "7cad3ae4-1f51-4950-9d7f-b8c7ac6f0f77",
   "metadata": {},
   "source": [
    "Obtaining an Ohmic Bath via Correlation functions"
   ]
  },
  {
   "cell_type": "code",
   "execution_count": 3,
   "id": "f3f59052-a687-4a00-8a0a-ece534e77433",
   "metadata": {},
   "outputs": [
    {
     "name": "stdout",
     "output_type": "stream",
     "text": [
      "Fitting The real Part of the correlation function ..... \n",
      "Parameters [k=1]: \n",
      " \t lam=[0.0400059] \n",
      " \t gamma=[-0.93092427] \n",
      " \t w0=[1.45452728e-11] \n",
      " Normalized RMSE = 9.285525683887682e-05\n",
      "Parameters [k=2]: \n",
      " \t lam=[0.01838259 0.02127905] \n",
      " \t gamma=[-0.51510725 -1.01867567] \n",
      " \t w0=[8.13990954e-23 9.62439167e-01] \n",
      " Normalized RMSE = 4.9001478947984185e-05\n",
      "Parameters [k=3]: \n",
      " \t lam=[ 0.00505853  0.04108794 -0.00938488] \n",
      " \t gamma=[-0.28450327 -1.31653786 -4.7192563 ] \n",
      " \t w0=[5.32913163e-18 4.76861197e-18 4.89079601e+00] \n",
      " Normalized RMSE = 1.3300348986564378e-05\n",
      "Parameters [k=4]: \n",
      " \t lam=[ 0.0114574   0.35536488  0.00614465 -0.33426881] \n",
      " \t gamma=[-0.65465667 -0.33942822 -0.86761164 -0.33102889] \n",
      " \t w0=[0.97216284 0.1842804  2.03199239 0.18635836] \n",
      " Normalized RMSE = 2.934218309155666e-05\n",
      "Parameters [k=5]: \n",
      " \t lam=[ 3.56995371e-04  2.73262070e-02  4.50298483e-01  4.95009320e-03\n",
      " -4.46453199e-01] \n",
      " \t gamma=[-0.07584012 -1.08735982 -4.55944252 -0.35491248 -4.66434324] \n",
      " \t w0=[5.89921272e-34 9.83964128e-10 5.80552670e-06 2.86727123e-66\n",
      " 7.81692659e-01] \n",
      " Normalized RMSE = 1.058745209592887e-06\n",
      "Parameters [k=6]: \n",
      " \t lam=[ 2.98972988e-03  3.06548585e-01  1.76152132e-01  2.31267863e-04\n",
      " -1.88095513e-01 -2.61364941e-01] \n",
      " \t gamma=[-0.27633113 -1.18310137 -4.04981557 -0.06199101 -4.1258756  -1.14698447] \n",
      " \t w0=[2.39300512e-30 2.75092660e-05 2.44640847e+00 2.10659353e-38\n",
      " 2.51967676e+00 1.73198380e-01] \n",
      " Normalized RMSE = 4.3404271802370226e-07\n",
      "Desired RMSE reached\n",
      "\n",
      "\n",
      "Fitting the imaginary [art of the correlation function ..... \n",
      "Parameters [k=1]: \n",
      " \t lam=[-0.05168647] \n",
      " \t gamma=[-1.52063251] \n",
      " \t w0=[0.80991369] \n",
      " Normalized RMSE = 0.0001365926583356062\n",
      "Parameters [k=2]: \n",
      " \t lam=[-0.01514431 -0.05168647] \n",
      " \t gamma=[-1.4505411  -1.16604535] \n",
      " \t w0=[1.78000917 0.29085894] \n",
      " Normalized RMSE = 5.0729015341566845e-05\n",
      "Parameters [k=3]: \n",
      " \t lam=[-0.01321142 -0.00472934 -0.05160988] \n",
      " \t gamma=[-1.0930975  -1.18618761 -0.99671087] \n",
      " \t w0=[1.36922582 2.69680727 0.16469708] \n",
      " Normalized RMSE = 3.3177592782599805e-05\n",
      "Parameters [k=4]: \n",
      " \t lam=[-0.05168647  0.00639009 -0.0516864  -0.05168647] \n",
      " \t gamma=[-2.18143966 -4.28463493 -0.41243672 -1.20555178] \n",
      " \t w0=[9.56709485e-01 4.34778172e+00 3.94930725e-03 1.93028381e-01] \n",
      " Normalized RMSE = 1.8976451794939394e-06\n",
      "Parameters [k=5]: \n",
      " \t lam=[ 0.00679248 -0.03966203 -0.0289584  -0.05168523 -0.05168647] \n",
      " \t gamma=[-4.29316501 -2.2575606  -0.20716045 -0.63337625 -1.41277204] \n",
      " \t w0=[4.20965750e+00 1.10766913e+00 4.53564053e-04 1.54008874e-02\n",
      " 3.01004970e-01] \n",
      " Normalized RMSE = 5.39919323608056e-07\n",
      "Desired RMSE reached\n"
     ]
    }
   ],
   "source": [
    "obp=heom.OhmicBath(T,sigmax(),alpha,wc,s)"
   ]
  },
  {
   "cell_type": "code",
   "execution_count": 4,
   "id": "62db8a97-d209-4da8-8d77-5420409f0615",
   "metadata": {},
   "outputs": [
    {
     "name": "stdout",
     "output_type": "stream",
     "text": [
      "10.1%. Run time:   0.48s. Est. time left: 00:00:00:04\n",
      "20.2%. Run time:   0.72s. Est. time left: 00:00:00:02\n",
      "30.3%. Run time:   0.89s. Est. time left: 00:00:00:02\n",
      "40.4%. Run time:   1.08s. Est. time left: 00:00:00:01\n",
      "50.5%. Run time:   1.26s. Est. time left: 00:00:00:01\n",
      "60.6%. Run time:   1.43s. Est. time left: 00:00:00:00\n",
      "70.7%. Run time:   1.62s. Est. time left: 00:00:00:00\n",
      "80.8%. Run time:   1.80s. Est. time left: 00:00:00:00\n",
      "90.9%. Run time:   1.98s. Est. time left: 00:00:00:00\n",
      "100.0%. Run time:   2.13s. Est. time left: 00:00:00:00\n",
      "Total run time:   2.13s\n"
     ]
    }
   ],
   "source": [
    "options = {'nsteps':15000, 'store_states':True, 'rtol':1e-12, 'atol':1e-12, 'method':\"bdf\"}\n",
    "HEOM_corr_fit = heom.HEOMSolver(Hsys, obp.Bath_corr, max_depth=4, options=options)\n",
    "result_corr=HEOM_corr_fit.run(rho0,tlist)"
   ]
  },
  {
   "cell_type": "markdown",
   "id": "fd990fca-2f2d-4136-ba3e-dccfb0c38644",
   "metadata": {},
   "source": [
    "Obtaining an Ohmic Bath via Spectral density\n",
    "\n",
    "If the spectral method is specified than the Ohmic bath is obtained by fitting the ohmic spectral density "
   ]
  },
  {
   "cell_type": "code",
   "execution_count": 5,
   "id": "3fad860d-7493-41da-9a1f-af7fa545399e",
   "metadata": {},
   "outputs": [
    {
     "name": "stdout",
     "output_type": "stream",
     "text": [
      "Fitting the Spectral density with k  Underdamped Drude Lorentz .......\n",
      "Parameters [k=1]: \n",
      " \t lam=[0.09457428] \n",
      " \t gamma=[1.77937199] \n",
      " \t w0=[0.10001] \n",
      " Normalized RMSE = 0.00014398396812732766\n",
      "Parameters [k=2]: \n",
      " \t lam=[0.03403633 0.05018147] \n",
      " \t gamma=[1.24962434 1.43433081] \n",
      " \t w0=[0.10001    1.80573553] \n",
      " Normalized RMSE = 7.111440183258405e-05\n",
      "Parameters [k=3]: \n",
      " \t lam=[-0.05569379  0.00403359  0.11663765] \n",
      " \t gamma=[4.17975242 0.73506475 2.13429103] \n",
      " \t w0=[4.66786664 0.10001    0.10001   ] \n",
      " Normalized RMSE = 1.1895125773352943e-05\n",
      "Parameters [k=4]: \n",
      " \t lam=[ 0.00016261 -0.06777505  0.00923493  0.1217659 ] \n",
      " \t gamma=[0.30722683 4.29819612 1.00218015 2.2958791 ] \n",
      " \t w0=[0.10001    3.98389103 0.10001    0.10001   ] \n",
      " Normalized RMSE = 2.0705179688381157e-06\n",
      "Parameters [k=5]: \n",
      " \t lam=[-3.45169868e-01 -7.31351150e-01  1.42042940e-04  4.12654516e-01\n",
      "  7.27871501e-01] \n",
      " \t gamma=[1.31942962 4.67723361 0.29373219 1.3839406  4.55989746] \n",
      " \t w0=[0.284329   1.69285141 0.10001    0.10001    0.13596062] \n",
      " Normalized RMSE = 1.8947353495975248e-06\n",
      "Parameters [k=6]: \n",
      " \t lam=[-1.15428794e-01 -1.64634021e+00  1.57992447e-05  2.42732590e-02\n",
      "  1.15826192e-03  1.80042203e+00] \n",
      " \t gamma=[4.65948146 3.43169804 0.14662752 1.37248801 0.57617451 3.42404702] \n",
      " \t w0=[3.48138857 0.65041495 0.10001    0.10001    0.10001    0.10001003] \n",
      " Normalized RMSE = 8.830797909254175e-07\n",
      "Desired RMSE reached.\n"
     ]
    }
   ],
   "source": [
    "obp2=heom.OhmicBath(T,sigmax(),alpha,wc,s,Nk=4,method='spectral')"
   ]
  },
  {
   "cell_type": "code",
   "execution_count": 6,
   "id": "fb547724-f89b-4375-89e7-43456df7041e",
   "metadata": {},
   "outputs": [
    {
     "name": "stdout",
     "output_type": "stream",
     "text": [
      "10.1%. Run time:   0.68s. Est. time left: 00:00:00:06\n",
      "20.2%. Run time:   1.04s. Est. time left: 00:00:00:04\n",
      "30.3%. Run time:   1.29s. Est. time left: 00:00:00:02\n",
      "40.4%. Run time:   1.53s. Est. time left: 00:00:00:02\n",
      "50.5%. Run time:   1.77s. Est. time left: 00:00:00:01\n",
      "60.6%. Run time:   2.05s. Est. time left: 00:00:00:01\n",
      "70.7%. Run time:   2.29s. Est. time left: 00:00:00:00\n",
      "80.8%. Run time:   2.54s. Est. time left: 00:00:00:00\n",
      "90.9%. Run time:   2.76s. Est. time left: 00:00:00:00\n",
      "100.0%. Run time:   3.04s. Est. time left: 00:00:00:00\n",
      "Total run time:   3.04s\n"
     ]
    }
   ],
   "source": [
    "HEOM_spectral_fit = heom.HEOMSolver(Hsys, obp2.Bath_spec, max_depth=4, options=options)\n",
    "result_spectral=HEOM_spectral_fit.run(rho0,tlist)"
   ]
  },
  {
   "cell_type": "markdown",
   "id": "171fcb2c-d8d0-46a2-adb3-5ad699c6598f",
   "metadata": {},
   "source": [
    "Let us see the results from both ways of obtaining the ohmic bath parameters "
   ]
  },
  {
   "cell_type": "code",
   "execution_count": 7,
   "id": "f6eaf004-e708-48cc-b833-bb9c77ac7d7c",
   "metadata": {},
   "outputs": [],
   "source": [
    "import matplotlib.pyplot as plt\n",
    "def projection(result,i,j):\n",
    "    return [result.states[k][i,j] for k in range(len(result.states))]"
   ]
  },
  {
   "cell_type": "code",
   "execution_count": 8,
   "id": "2cfea7ff-6de6-4dff-926d-39024b9d66a3",
   "metadata": {},
   "outputs": [
    {
     "name": "stderr",
     "output_type": "stream",
     "text": [
      "/home/mcditoos/anaconda3/envs/qutip-dev/lib/python3.12/site-packages/matplotlib/cbook.py:1699: ComplexWarning: Casting complex values to real discards the imaginary part\n",
      "  return math.isfinite(val)\n",
      "/home/mcditoos/anaconda3/envs/qutip-dev/lib/python3.12/site-packages/matplotlib/cbook.py:1345: ComplexWarning: Casting complex values to real discards the imaginary part\n",
      "  return np.asarray(x, float)\n",
      "/home/mcditoos/anaconda3/envs/qutip-dev/lib/python3.12/site-packages/matplotlib/collections.py:194: ComplexWarning: Casting complex values to real discards the imaginary part\n",
      "  offsets = np.asanyarray(offsets, float)\n"
     ]
    },
    {
     "data": {
      "image/png": "[encoded data removed]",
      "text/plain": [
       "<Figure size 640x480 with 1 Axes>"
      ]
     },
     "metadata": {},
     "output_type": "display_data"
    }
   ],
   "source": [
    "plt.plot(tlist,projection(result_spectral,0,0))\n",
    "plt.scatter(tlist,projection(result_corr,0,0),s=5,marker='x',color='red')\n",
    "plt.xlabel('t')\n",
    "plt.ylabel(r'$\\rho_{11}$')\n",
    "plt.show()"
   ]
  },
  {
   "cell_type": "code",
   "execution_count": 9,
   "id": "1ca0c6b1-5ecf-4397-bb41-19b932df241b",
   "metadata": {},
   "outputs": [
    {
     "data": {
      "image/png": "[encoded data removed]",
      "text/plain": [
       "<Figure size 640x480 with 1 Axes>"
      ]
     },
     "metadata": {},
     "output_type": "display_data"
    }
   ],
   "source": [
    "w=np.linspace(-10,10,100)\n",
    "plt.scatter(w,obp.corr_spectrum_approx(w),s=8)\n",
    "plt.scatter(w,obp2.spec_spectrum_approx(w),s=5,marker='x',color='red')\n",
    "plt.plot(w,obp.ohmic_power_spectrum(w),color='k')\n",
    "plt.ylabel(r'$J( \\omega )$')\n",
    "plt.xlabel(r'$\\omega$')\n",
    "plt.show()"
   ]
  }
 ],
 "metadata": {
  "kernelspec": {
   "display_name": "Python 3 (ipykernel)",
   "language": "python",
   "name": "python3"
  },
  "language_info": {
   "codemirror_mode": {
    "name": "ipython",
    "version": 3
   },
   "file_extension": ".py",
   "mimetype": "text/x-python",
   "name": "python",
   "nbconvert_exporter": "python",
   "pygments_lexer": "ipython3",
   "version": "3.12.0"
  }
 },
 "nbformat": 4,
 "nbformat_minor": 5
}
