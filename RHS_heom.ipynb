{
 "cells": [
  {
   "cell_type": "code",
   "execution_count": 21,
   "id": "f54f0cf1-5a7c-47c1-8ed5-c047124b72d2",
   "metadata": {},
   "outputs": [],
   "source": [
    "from qutip import *\n",
    "import numpy as np"
   ]
  },
  {
   "cell_type": "code",
   "execution_count": 22,
   "id": "25fc6d2f-5c09-45a5-a213-3df99ea083af",
   "metadata": {},
   "outputs": [],
   "source": [
    "# Defining the system Hamiltonian\n",
    "eps = 0.0    # Energy of the 2-level system.\n",
    "Del = 0.2    # Tunnelling term\n",
    "Hsys = 0.5 * eps * sigmaz() + 0.5 * Del * sigmax()\n",
    "# Initial state of the system.\n",
    "rho0 = basis(2, 0) * basis(2, 0).dag()\n",
    "tlist=np.linspace(0,10,1000)"
   ]
  },
  {
   "cell_type": "code",
   "execution_count": 23,
   "id": "cd0618bf-9ea9-45f5-b74c-e0b5d0febe5d",
   "metadata": {},
   "outputs": [],
   "source": [
    "bath = heom.DrudeLorentzBath(sigmaz(), lam=0.05, gamma=5, T=1, Nk=4)\n",
    "_, terminator = bath.terminator()\n",
    "Ltot = liouvillian(Hsys) + terminator\n",
    "options = {'nsteps':15000, 'store_states':True, 'rtol':1e-12, 'atol':1e-12, 'method':\"bdf\"}\n",
    "HEOM_dlbath_T = heom.HEOMSolver(Ltot, bath, 4, options=options)"
   ]
  },
  {
   "cell_type": "code",
   "execution_count": 24,
   "id": "635a78cc-e8ef-48e6-960b-3a2c8511ae59",
   "metadata": {},
   "outputs": [],
   "source": [
    "l,b=HEOM_dlbath_T.steady_state()"
   ]
  },
  {
   "cell_type": "code",
   "execution_count": 25,
   "id": "22c29432-81c8-4b4e-8b72-3ec4eef63432",
   "metadata": {},
   "outputs": [],
   "source": [
    "from scipy.linalg import expm, sinm, cosm"
   ]
  },
  {
   "cell_type": "code",
   "execution_count": 38,
   "id": "07dd484f-414c-4335-b442-ef14b0b8a232",
   "metadata": {},
   "outputs": [
    {
     "data": {
      "text/plain": [
       "(504, 504)"
      ]
     },
     "execution_count": 38,
     "metadata": {},
     "output_type": "execute_result"
    }
   ],
   "source": [
    "HEOM_dlbath_T.rhs(0).full().shape"
   ]
  },
  {
   "cell_type": "code",
   "execution_count": 39,
   "id": "9e61853b-b55b-42b4-95d6-396329d20369",
   "metadata": {},
   "outputs": [],
   "source": [
    "state=HEOM_dlbath_T._prepare_state(rho0)"
   ]
  },
  {
   "cell_type": "code",
   "execution_count": 44,
   "id": "6ae0fc67-86a4-4b93-9e75-85ed4e9384d8",
   "metadata": {},
   "outputs": [],
   "source": [
    "ss=state.as_ndarray()"
   ]
  },
  {
   "cell_type": "code",
   "execution_count": 50,
   "id": "8b2db3e8-bf2a-48e5-ace7-013fd8e86716",
   "metadata": {},
   "outputs": [
    {
     "name": "stdout",
     "output_type": "stream",
     "text": [
      "Collecting ttpy\n",
      "  Using cached ttpy-1.2.1.tar.gz (317 kB)\n",
      "  Preparing metadata (setup.py) ... \u001b[?25lerror\n",
      "  \u001b[1;31merror\u001b[0m: \u001b[1msubprocess-exited-with-error\u001b[0m\n",
      "  \n",
      "  \u001b[31m×\u001b[0m \u001b[32mpython setup.py egg_info\u001b[0m did not run successfully.\n",
      "  \u001b[31m│\u001b[0m exit code: \u001b[1;36m1\u001b[0m\n",
      "  \u001b[31m╰─>\u001b[0m \u001b[31m[6 lines of output]\u001b[0m\n",
      "  \u001b[31m   \u001b[0m Traceback (most recent call last):\n",
      "  \u001b[31m   \u001b[0m   File \"<string>\", line 2, in <module>\n",
      "  \u001b[31m   \u001b[0m   File \"<pip-setuptools-caller>\", line 34, in <module>\n",
      "  \u001b[31m   \u001b[0m   File \"/tmp/pip-install-fm5b8olc/ttpy_f03cef587b81474780f4c1b2c1ef110f/setup.py\", line 9, in <module>\n",
      "  \u001b[31m   \u001b[0m     from numpy.distutils.core import setup\n",
      "  \u001b[31m   \u001b[0m ModuleNotFoundError: No module named 'numpy.distutils'\n",
      "  \u001b[31m   \u001b[0m \u001b[31m[end of output]\u001b[0m\n",
      "  \n",
      "  \u001b[1;35mnote\u001b[0m: This error originates from a subprocess, and is likely not a problem with pip.\n",
      "\u001b[1;31merror\u001b[0m: \u001b[1mmetadata-generation-failed\u001b[0m\n",
      "\n",
      "\u001b[31m×\u001b[0m Encountered error while generating package metadata.\n",
      "\u001b[31m╰─>\u001b[0m See above for output.\n",
      "\n",
      "\u001b[1;35mnote\u001b[0m: This is an issue with the package mentioned above, not pip.\n",
      "\u001b[1;36mhint\u001b[0m: See above for details.\n",
      "\u001b[?25h"
     ]
    }
   ],
   "source": [
    "!pip install ttpy"
   ]
  },
  {
   "cell_type": "code",
   "execution_count": 51,
   "id": "c160b830-6812-453d-917f-e2bbb0024f06",
   "metadata": {},
   "outputs": [
    {
     "name": "stdout",
     "output_type": "stream",
     "text": [
      "\u001b[31mERROR: Could not find a version that satisfies the requirement numpy.distutils (from versions: none)\u001b[0m\u001b[31m\n",
      "\u001b[0m\u001b[31mERROR: No matching distribution found for numpy.distutils\u001b[0m\u001b[31m\n",
      "\u001b[0m"
     ]
    }
   ],
   "source": [
    "!pip install numpy.distutils"
   ]
  },
  {
   "cell_type": "code",
   "execution_count": null,
   "id": "9810a7fa-00c2-40c8-83b5-e2451c94be1a",
   "metadata": {},
   "outputs": [],
   "source": []
  }
 ],
 "metadata": {
  "kernelspec": {
   "display_name": "Python 3 (ipykernel)",
   "language": "python",
   "name": "python3"
  },
  "language_info": {
   "codemirror_mode": {
    "name": "ipython",
    "version": 3
   },
   "file_extension": ".py",
   "mimetype": "text/x-python",
   "name": "python",
   "nbconvert_exporter": "python",
   "pygments_lexer": "ipython3",
   "version": "3.12.0"
  }
 },
 "nbformat": 4,
 "nbformat_minor": 5
}
